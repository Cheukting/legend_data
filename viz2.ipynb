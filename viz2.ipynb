{
 "cells": [
  {
   "cell_type": "markdown",
   "metadata": {},
   "source": [
    "# Import the pokemon data"
   ]
  },
  {
   "cell_type": "code",
   "execution_count": null,
   "metadata": {},
   "outputs": [],
   "source": [
    "import pandas as pd\n",
    "import matplotlib.pyplot as plt\n",
    "%matplotlib inline"
   ]
  },
  {
   "cell_type": "code",
   "execution_count": null,
   "metadata": {},
   "outputs": [],
   "source": [
    "pokemon_df = pd.read_csv(\"data/pokemon.csv\", index_col=0, dtype={\"Generation\": 'object'})\n",
    "pokemon_df.head()"
   ]
  },
  {
   "cell_type": "code",
   "execution_count": null,
   "metadata": {},
   "outputs": [],
   "source": [
    "pokemon_df['Speed'].describe()"
   ]
  },
  {
   "cell_type": "code",
   "execution_count": null,
   "metadata": {},
   "outputs": [],
   "source": [
    "# filters\n",
    "grass_filter = (pokemon_df['Type 1'] == 'Grass')\n",
    "fire_filter = (pokemon_df['Type 1'] == 'Fire')\n",
    "leg_filter = pokemon_df['Legendary']\n",
    "notleg_filter = pokemon_df['Legendary'] == False\n",
    "gen1_filter = pokemon_df['Generation'] == '1'\n",
    "gen2_filter = pokemon_df['Generation'] == '2'"
   ]
  },
  {
   "cell_type": "markdown",
   "metadata": {},
   "source": [
    "# Create a graph with customized title and legend"
   ]
  },
  {
   "cell_type": "code",
   "execution_count": null,
   "metadata": {},
   "outputs": [],
   "source": [
    "plot_data = [pokemon_df[fire_filter]['Speed'], pokemon_df[grass_filter]['Speed']]\n",
    "\n",
    "plt.figure(figsize=(8,5))\n",
    "\n",
    "## plotting ###\n",
    "\n",
    "plt.hist(pokemon_df[fire_filter]['Speed'], bins=15, color='r', alpha=.5)\n",
    "plt.hist(pokemon_df[grass_filter]['Speed'], bins=15, color='g', alpha=.5)\n",
    "\n",
    "# if you want bars side by side rather then overlap\n",
    "# plt.hist(plot_data, color=['r','g']) \n",
    "\n",
    "ax = plt.gca() # gca grab the current axis\n",
    "\n",
    "ax.set_xlabel('Speed points of the Pokemon')\n",
    "ax.set_ylabel('Count')\n",
    "ax.set_title('Histogram of the speed of all Pokemons')\n",
    "\n",
    "ax.legend(['fire type', 'grass type'])\n",
    "\n",
    "plt.show()"
   ]
  },
  {
   "cell_type": "markdown",
   "metadata": {},
   "source": [
    "# Creating a figure consist of subplots"
   ]
  },
  {
   "cell_type": "code",
   "execution_count": null,
   "metadata": {},
   "outputs": [],
   "source": [
    "fig, (ax0, ax1) = plt.subplots(nrows=1, ncols=2, figsize=(15,5))\n",
    "\n",
    "### for ax0 ###\n",
    "\n",
    "ax0.hist(pokemon_df[gen1_filter & fire_filter]['Speed'], bins=10, color='r', alpha=.5)\n",
    "ax0.hist(pokemon_df[gen1_filter & grass_filter]['Speed'], bins=10, color='g', alpha=.5)\n",
    "\n",
    "ax0.legend(['fire type', 'grass type'])\n",
    "\n",
    "ax0.set_title(\"Comparing Speed of Fire and Grass Type\\n of Generation 1 Pokemon\")\n",
    "\n",
    "ax0.axis(ymax=5)\n",
    "\n",
    "### for ax1 ###\n",
    "\n",
    "ax1.hist(pokemon_df[gen2_filter & fire_filter]['Speed'], bins=10, color='r', alpha=.5)\n",
    "ax1.hist(pokemon_df[gen2_filter & grass_filter]['Speed'], bins=10, color='g', alpha=.5)\n",
    "\n",
    "ax1.legend(['fire type', 'grass type'])\n",
    "\n",
    "ax1.set_title(\"Comparing Speed of Fire and Grass Type\\n of Generation 2 Pokemon\")\n",
    "\n",
    "ax1.axis(ymax=5)\n",
    "\n",
    "\n",
    "### etc if you have more####\n",
    "\n",
    "\n",
    "plt.show()"
   ]
  },
  {
   "cell_type": "markdown",
   "metadata": {},
   "source": [
    "# What are the slow Fire Pokemons"
   ]
  },
  {
   "cell_type": "code",
   "execution_count": null,
   "metadata": {},
   "outputs": [],
   "source": [
    "speed_filter = pokemon_df['Speed'] < 40\n",
    "pokemon_df[gen2_filter & fire_filter & speed_filter]"
   ]
  },
  {
   "cell_type": "markdown",
   "metadata": {},
   "source": [
    "# It's actually cute\n",
    "\n",
    "![Magcargo](https://img.pokemondb.net/artwork/large/magcargo.jpg)"
   ]
  },
  {
   "cell_type": "code",
   "execution_count": null,
   "metadata": {},
   "outputs": [],
   "source": []
  }
 ],
 "metadata": {
  "kernelspec": {
   "display_name": "Python 3",
   "language": "python",
   "name": "python3"
  },
  "language_info": {
   "codemirror_mode": {
    "name": "ipython",
    "version": 3
   },
   "file_extension": ".py",
   "mimetype": "text/x-python",
   "name": "python",
   "nbconvert_exporter": "python",
   "pygments_lexer": "ipython3",
   "version": "3.7.3"
  }
 },
 "nbformat": 4,
 "nbformat_minor": 4
}
