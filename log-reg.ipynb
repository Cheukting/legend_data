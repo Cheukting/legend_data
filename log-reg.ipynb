{
 "cells": [
  {
   "cell_type": "code",
   "execution_count": null,
   "metadata": {},
   "outputs": [],
   "source": [
    "import pandas as pd\n",
    "\n",
    "df = pd.DataFrame().from_dict({'X': [0,1,2,28,18,30], 'Y': [0,0,0,1,1,1]})\n",
    "df"
   ]
  },
  {
   "cell_type": "markdown",
   "metadata": {},
   "source": [
    "## Let's visulize it"
   ]
  },
  {
   "cell_type": "code",
   "execution_count": null,
   "metadata": {},
   "outputs": [],
   "source": [
    "from bokeh.layouts import column\n",
    "from bokeh.models import ColumnDataSource, CustomJS, Slider, Div\n",
    "from bokeh.plotting import figure, output_notebook, show\n",
    "from bokeh.themes import built_in_themes\n",
    "from bokeh.io import curdoc\n",
    "\n",
    "output_notebook()\n",
    "curdoc().theme = 'night_sky'\n",
    "\n",
    "source = ColumnDataSource(df)\n",
    "\n",
    "plot = figure(plot_width=400, plot_height=400)\n",
    "plot.circle(x='X', y='Y', source=source, size=10, color=\"green\", alpha=0.5)\n",
    "\n",
    "show(plot)"
   ]
  },
  {
   "cell_type": "markdown",
   "metadata": {},
   "source": [
    "# Slider Game (again?)"
   ]
  },
  {
   "cell_type": "code",
   "execution_count": null,
   "metadata": {},
   "outputs": [],
   "source": [
    "import math\n",
    "from bokeh.layouts import column\n",
    "from bokeh.models import ColumnDataSource, CustomJS, Slider, Div\n",
    "from bokeh.plotting import figure, output_notebook, show\n",
    "from bokeh.themes import built_in_themes\n",
    "from bokeh.io import curdoc\n",
    "\n",
    "output_notebook()\n",
    "curdoc().theme = 'night_sky'\n",
    "\n",
    "def sigmiod_func(df):\n",
    "    return 1/(1+math.exp(-1*(df.b1*df.X+df.b0)))\n",
    "\n",
    "def cost_func(df):\n",
    "    y = list(df['Y'])\n",
    "    y_pred = list(df['Y pred'])\n",
    "    sum = 0\n",
    "    \n",
    "    for idx in range(len(y)):\n",
    "        sum += -y[idx]*math.log(y_pred[idx]) - (1-y[idx])*math.log(1-y_pred[idx])\n",
    "    return sum\n",
    "\n",
    "b1 = 0.425\n",
    "b0 = 0.785\n",
    "\n",
    "df = pd.DataFrame().from_dict({'X': [0,1,2,28,18,30], 'Y': [0,0,0,1,1,1]})\n",
    "df['b1'] = b1\n",
    "df['b0'] = b0\n",
    "df['Y pred'] = df.apply(sigmiod_func, axis=1)\n",
    "\n",
    "line_df = pd.DataFrame().from_dict({'X': [x*0.05 for x in range(0, 600)]})\n",
    "line_df['b1'] = b1\n",
    "line_df['b0'] = b0\n",
    "line_df['Y'] = line_df.apply(sigmiod_func, axis=1)\n",
    "\n",
    "source = ColumnDataSource(df)\n",
    "line_source = ColumnDataSource(line_df)\n",
    "\n",
    "plot = figure(plot_width=400, plot_height=400, x_range=[-5,35], y_range=[-0.5,1.5])\n",
    "plot.line(x='X', y='Y', source=line_source, line_width=3, line_alpha=0.6)\n",
    "plot.circle(x='X', y='Y', source=source, size=10, color=\"green\", alpha=0.5)\n",
    "\n",
    "callback_b1 = CustomJS(args=dict(source=line_source), code=\"\"\"\n",
    "        var data = source.data;\n",
    "        var b1_val = cb_obj.value\n",
    "        var b1 = data['b1']\n",
    "        var b0 = data['b0']\n",
    "        var x = data['X']\n",
    "        var y = data['Y']\n",
    "        for (var i = 0; i < x.length; i++) {\n",
    "            b1[i] = b1_val\n",
    "            y[i] = 1.0/(1+Math.exp(-1*(b1[i]*x[i]+b0[i])))\n",
    "        }\n",
    "        source.change.emit();\n",
    "    \"\"\")\n",
    "\n",
    "callback_b0 = CustomJS(args=dict(source=line_source), code=\"\"\"\n",
    "        var data = source.data;\n",
    "        var b0_val = cb_obj.value\n",
    "        var b1 = data['b1']\n",
    "        var b0 = data['b0']\n",
    "        var x = data['X']\n",
    "        var y = data['Y']\n",
    "        for (var i = 0; i < x.length; i++) {\n",
    "            b0[i] = b0_val\n",
    "            y[i] = 1.0/(1+Math.exp(-1*(b1[i]*x[i]+b0[i])))\n",
    "        }\n",
    "        source.change.emit();\n",
    "    \"\"\")\n",
    "\n",
    "div = Div(text=\"Cost function: \"+ str(cost_func(source.data)))\n",
    "\n",
    "change_text_b1 = CustomJS(args=dict(div=div, source=source), code=\"\"\"\n",
    "                var data = source.data;\n",
    "                var b1_val = cb_obj.value\n",
    "                var b1 = data['b1']\n",
    "                var b0 = data['b0']\n",
    "                var x = data['X']\n",
    "                var y_pred = data['Y pred'];\n",
    "                var y = data['Y'];\n",
    "                var sum = 0;\n",
    "                for (var i = 0; i < y.length; i++) {\n",
    "                    b1[i] = b1_val\n",
    "                    y_pred[i] = 1.0/(1+Math.exp(-1*(b1[i]*x[i]+b0[i])))\n",
    "                    sum += -y[i]*Math.log(y_pred[i]) - (1-y[i])*Math.log(1-y_pred[i])\n",
    "                }\n",
    "                div.text = \"Cost function: \" + sum;\n",
    "             \"\"\"       \n",
    "    )\n",
    "\n",
    "change_text_b0 = CustomJS(args=dict(div=div, source=source), code=\"\"\"\n",
    "                var data = source.data;\n",
    "                var b0_val = cb_obj.value\n",
    "                var b1 = data['b1']\n",
    "                var b0 = data['b0']\n",
    "                var x = data['X']\n",
    "                var y_pred = data['Y pred'];\n",
    "                var y = data['Y'];\n",
    "                var sum = 0;\n",
    "                for (var i = 0; i < y.length; i++) {\n",
    "                    b0[i] = b0_val\n",
    "                    y_pred[i] = 1.0/(1+Math.exp(-1*(b1[i]*x[i]+b0[i])))\n",
    "                    sum += -y[i]*Math.log(y_pred[i]) - (1-y[i])*Math.log(1-y_pred[i])\n",
    "                }\n",
    "                div.text = \"Cost function: \" + sum;\n",
    "             \"\"\"       \n",
    "    )\n",
    "\n",
    "slider_b1 = Slider(start=0, end=4, value=b1, step=.1, title=\"value of b1\")\n",
    "slider_b1.js_on_change('value', callback_b1, change_text_b1)\n",
    "slider_b0 = Slider(start=-10, end=4, value=b0, step=.1, title=\"value of b0\")\n",
    "slider_b0.js_on_change('value', callback_b0, change_text_b0)\n",
    "\n",
    "layout = column(slider_b1, slider_b0, plot, div)\n",
    "\n",
    "show(layout)"
   ]
  },
  {
   "cell_type": "code",
   "execution_count": null,
   "metadata": {},
   "outputs": [],
   "source": [
    "line_df.tail()"
   ]
  },
  {
   "cell_type": "markdown",
   "metadata": {},
   "source": [
    "### Predicting with scikit learn\n",
    "https://scikit-learn.org/stable/modules/generated/sklearn.linear_model.LogisticRegression.html"
   ]
  },
  {
   "cell_type": "code",
   "execution_count": null,
   "metadata": {},
   "outputs": [],
   "source": [
    "import numpy as np"
   ]
  },
  {
   "cell_type": "code",
   "execution_count": null,
   "metadata": {},
   "outputs": [],
   "source": [
    "from sklearn.linear_model import LogisticRegression\n",
    "\n",
    "clf = LogisticRegression(random_state=0)\n",
    "clf.fit(df[\"X\"].values.reshape(-1, 1), df[\"Y\"].values)\n"
   ]
  },
  {
   "cell_type": "code",
   "execution_count": null,
   "metadata": {},
   "outputs": [],
   "source": [
    "clf.predict(np.array(12).reshape(-1, 1))"
   ]
  },
  {
   "cell_type": "code",
   "execution_count": null,
   "metadata": {},
   "outputs": [],
   "source": [
    "clf.predict_proba(np.array(10).reshape(-1, 1))"
   ]
  },
  {
   "cell_type": "code",
   "execution_count": null,
   "metadata": {},
   "outputs": [],
   "source": []
  }
 ],
 "metadata": {
  "kernelspec": {
   "display_name": "Python 3",
   "language": "python",
   "name": "python3"
  },
  "language_info": {
   "codemirror_mode": {
    "name": "ipython",
    "version": 3
   },
   "file_extension": ".py",
   "mimetype": "text/x-python",
   "name": "python",
   "nbconvert_exporter": "python",
   "pygments_lexer": "ipython3",
   "version": "3.7.3"
  }
 },
 "nbformat": 4,
 "nbformat_minor": 4
}
