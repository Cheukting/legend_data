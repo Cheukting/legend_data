{
 "cells": [
  {
   "cell_type": "code",
   "execution_count": null,
   "metadata": {},
   "outputs": [],
   "source": [
    "import pandas as pd\n",
    "\n",
    "df = pd.DataFrame().from_dict({'X': [0,1,2,28,18,30], 'Y': [0,0,0,1,1,1]})\n",
    "df"
   ]
  },
  {
   "cell_type": "markdown",
   "metadata": {},
   "source": [
    "## Let's visulize it"
   ]
  },
  {
   "cell_type": "code",
   "execution_count": null,
   "metadata": {},
   "outputs": [],
   "source": [
    "from bokeh.layouts import column\n",
    "from bokeh.models import ColumnDataSource, CustomJS, Slider, Div\n",
    "from bokeh.plotting import figure, output_notebook, show\n",
    "from bokeh.themes import built_in_themes\n",
    "from bokeh.io import curdoc\n",
    "\n",
    "output_notebook()\n",
    "curdoc().theme = 'night_sky'\n",
    "\n",
    "source = ColumnDataSource(df)\n",
    "\n",
    "plot = figure(plot_width=400, plot_height=400)\n",
    "plot.circle(x='X', y='Y', source=source, size=10, color=\"green\", alpha=0.5)\n",
    "\n",
    "show(plot)"
   ]
  },
  {
   "cell_type": "markdown",
   "metadata": {},
   "source": [
    "# Slider Game (again?)"
   ]
  },
  {
   "cell_type": "code",
   "execution_count": null,
   "metadata": {},
   "outputs": [],
   "source": [
    "import math\n",
    "def sigmiod_func(df):\n",
    "    print(df)\n",
    "    return 1/1+math.exp(-1*(df.b1*df.X+df.b0))\n",
    "\n",
    "b1 = 0.425\n",
    "b0 = 0.785\n",
    "\n",
    "df = pd.DataFrame().from_dict({'X': [0,1,2,28,18,30], 'Y': [0,0,0,1,1,1]})\n",
    "df['b1'] = b1\n",
    "df['b0'] = b0\n",
    "\n",
    "df['Y pred'] = df.apply(sigmiod_func, axis=1)\n",
    "df"
   ]
  },
  {
   "cell_type": "code",
   "execution_count": null,
   "metadata": {},
   "outputs": [],
   "source": [
    "import math\n",
    "from bokeh.layouts import column\n",
    "from bokeh.models import ColumnDataSource, CustomJS, Slider, Div\n",
    "from bokeh.plotting import figure, output_notebook, show\n",
    "from bokeh.themes import built_in_themes\n",
    "from bokeh.io import curdoc\n",
    "\n",
    "output_notebook()\n",
    "curdoc().theme = 'night_sky'\n",
    "\n",
    "def sigmiod_func(df):\n",
    "    return 1/1+math.exp(-1*(df.b1*df.X+df.b0))\n",
    "\n",
    "b1 = 0.425\n",
    "b0 = 0.785\n",
    "\n",
    "df = pd.DataFrame().from_dict({'X': [0,1,2,28,18,30], 'Y': [0,0,0,1,1,1]})\n",
    "df['b1'] = b1\n",
    "df['b0'] = b0\n",
    "df['Y pred'] = df.apply(sigmiod_func)\n",
    "\n",
    "source = ColumnDataSource(df)\n",
    "\n",
    "plot = figure(plot_width=400, plot_height=400, x_range=[0,6], y_range=[0,6])\n",
    "plot.line(x='X', y='Y pred', source=source, line_width=3, line_alpha=0.6)\n",
    "plot.circle(x='X', y='Y', source=source, size=10, color=\"green\", alpha=0.5)\n",
    "\n",
    "callback_b = CustomJS(args=dict(source=source), code=\"\"\"\n",
    "        var data = source.data;\n",
    "        var b_val = cb_obj.value\n",
    "        var b = data['b']\n",
    "        var A = data['A']\n",
    "        var x = data['X']\n",
    "        var y = data['Y pred']\n",
    "        for (var i = 0; i < x.length; i++) {\n",
    "            b[i] = b_val\n",
    "            y[i] = b[i] * x[i] + A[i]\n",
    "        }\n",
    "        source.change.emit();\n",
    "    \"\"\")\n",
    "\n",
    "callback_A = CustomJS(args=dict(source=source), code=\"\"\"\n",
    "        var data = source.data;\n",
    "        var A_val = cb_obj.value\n",
    "        var b = data['b']\n",
    "        var A = data['A']\n",
    "        var x = data['X']\n",
    "        var y = data['Y pred']\n",
    "        for (var i = 0; i < x.length; i++) {\n",
    "            A[i] = A_val\n",
    "            y[i] = b[i] * x[i] + A[i]\n",
    "        }\n",
    "        source.change.emit();\n",
    "    \"\"\")\n",
    "\n",
    "div = Div(text=\"Sum of error sq: \"+ str(sum_error_eq(source.data['X'],source.data['Y'], b, A)))\n",
    "\n",
    "change_text = CustomJS(args=dict(dev=div, source=source), code=\"\"\"\n",
    "                var data = source.data;\n",
    "                var y_pred = data['Y pred'];\n",
    "                var y = data['Y'];\n",
    "                var result = 0;\n",
    "                for (var i = 0; i < y.length; i++) {\n",
    "                    var diff = y_pred[i] - y[i]\n",
    "                    result = result + diff * diff\n",
    "                }\n",
    "                dev.text = \"Sum of error sq: \" + result;\n",
    "             \"\"\"       \n",
    "    )\n",
    "\n",
    "slider_b = Slider(start=0.1, end=4, value=b, step=.1, title=\"value of b\")\n",
    "slider_b.js_on_change('value', callback_b, change_text)\n",
    "slider_A = Slider(start=0.1, end=4, value=A, step=.1, title=\"value of A\")\n",
    "slider_A.js_on_change('value', callback_A, change_text)\n",
    "\n",
    "layout = column(slider_b, slider_A, plot, div)\n",
    "\n",
    "show(layout)"
   ]
  },
  {
   "cell_type": "markdown",
   "metadata": {},
   "source": [
    "### Predicting with scikit learn\n",
    "https://scikit-learn.org/stable/modules/generated/sklearn.linear_model.LogisticRegression.html"
   ]
  },
  {
   "cell_type": "code",
   "execution_count": null,
   "metadata": {},
   "outputs": [],
   "source": [
    "import numpy as np"
   ]
  },
  {
   "cell_type": "code",
   "execution_count": null,
   "metadata": {},
   "outputs": [],
   "source": [
    "from sklearn.linear_model import LogisticRegression\n",
    "\n",
    "clf = LogisticRegression(random_state=0)\n",
    "clf.fit(df[\"X\"].values.reshape(-1, 1), df[\"Y\"].values)\n"
   ]
  },
  {
   "cell_type": "code",
   "execution_count": null,
   "metadata": {},
   "outputs": [],
   "source": [
    "clf.predict(np.array(12).reshape(-1, 1))"
   ]
  },
  {
   "cell_type": "code",
   "execution_count": null,
   "metadata": {},
   "outputs": [],
   "source": [
    "clf.predict_proba(np.array(10).reshape(-1, 1))"
   ]
  },
  {
   "cell_type": "code",
   "execution_count": null,
   "metadata": {},
   "outputs": [],
   "source": []
  }
 ],
 "metadata": {
  "kernelspec": {
   "display_name": "Python 3",
   "language": "python",
   "name": "python3"
  },
  "language_info": {
   "codemirror_mode": {
    "name": "ipython",
    "version": 3
   },
   "file_extension": ".py",
   "mimetype": "text/x-python",
   "name": "python",
   "nbconvert_exporter": "python",
   "pygments_lexer": "ipython3",
   "version": "3.7.3"
  }
 },
 "nbformat": 4,
 "nbformat_minor": 4
}
