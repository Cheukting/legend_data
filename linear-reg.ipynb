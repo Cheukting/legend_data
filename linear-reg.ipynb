{
 "cells": [
  {
   "cell_type": "code",
   "execution_count": null,
   "metadata": {},
   "outputs": [],
   "source": [
    "import pandas as pd\n",
    "\n",
    "df = pd.DataFrame().from_dict({'X': [1,2,3,4,5], 'Y': [1,2,1.3,3.75,2.25]})\n",
    "df"
   ]
  },
  {
   "cell_type": "markdown",
   "metadata": {},
   "source": [
    "The formula for a regression line is\n",
    "\n",
    "Y' = bX + A\n",
    "\n",
    "Y' = b1X1 + b2X2 + b3X3 + b0    # multiple X\n",
    "\n",
    "Let's calculate Y'"
   ]
  },
  {
   "cell_type": "code",
   "execution_count": null,
   "metadata": {},
   "outputs": [],
   "source": [
    "b = 0.5\n",
    "A = 0"
   ]
  },
  {
   "cell_type": "code",
   "execution_count": null,
   "metadata": {},
   "outputs": [],
   "source": [
    "df[\"Y pred\"] = df['X'] * b + A\n",
    "df"
   ]
  },
  {
   "cell_type": "code",
   "execution_count": null,
   "metadata": {},
   "outputs": [],
   "source": [
    "df[\"error\"] = df[\"Y\"] - df[\"Y pred\"]\n",
    "df"
   ]
  },
  {
   "cell_type": "code",
   "execution_count": null,
   "metadata": {},
   "outputs": [],
   "source": [
    "df[\"error sq\"] = df[\"error\"] * df[\"error\"]\n",
    "df"
   ]
  },
  {
   "cell_type": "markdown",
   "metadata": {},
   "source": [
    "What is the sum of error?"
   ]
  },
  {
   "cell_type": "code",
   "execution_count": null,
   "metadata": {},
   "outputs": [],
   "source": [
    "sum_of_error_sq = df[\"error sq\"].sum()\n",
    "sum_of_error_sq"
   ]
  },
  {
   "cell_type": "code",
   "execution_count": null,
   "metadata": {},
   "outputs": [],
   "source": [
    "import math\n",
    "def root_mean_sq_error(x,y,b,A):\n",
    "    x=list(x)\n",
    "    y=list(y)\n",
    "    sum_error_sq = 0\n",
    "    for i in range(len(x)):\n",
    "        sum_error_sq += ((b*x[i]+A) -  y[i])**2\n",
    "    return math.sqrt(sum_error_sq / len(x))\n",
    "\n",
    "def sum_error_eq(x,y,b,A):\n",
    "    x=list(x)\n",
    "    y=list(y)\n",
    "    sum_error_sq = 0\n",
    "    for i in range(len(x)):\n",
    "        sum_error_sq += ((b*x[i]+A) -  y[i])**2\n",
    "    return sum_error_sq\n",
    "\n",
    "sum_error_eq(df[\"X\"],df[\"Y\"],1,0)    "
   ]
  },
  {
   "cell_type": "markdown",
   "metadata": {},
   "source": [
    "## Let's visulize it"
   ]
  },
  {
   "cell_type": "code",
   "execution_count": null,
   "metadata": {},
   "outputs": [],
   "source": [
    "from bokeh.layouts import column\n",
    "from bokeh.models import ColumnDataSource, CustomJS, Slider, Div\n",
    "from bokeh.plotting import figure, output_notebook, show\n",
    "from bokeh.themes import built_in_themes\n",
    "from bokeh.io import curdoc\n",
    "\n",
    "output_notebook()\n",
    "curdoc().theme = 'night_sky'\n",
    "\n",
    "b = 0.425\n",
    "A = 0.785\n",
    "\n",
    "df = pd.DataFrame().from_dict({'X': [1,2,3,4,5], 'Y': [1,2,1.3,3.75,2.25]})\n",
    "df['b'] = b\n",
    "df['A'] = A\n",
    "df['Y pred'] = df['X'] * b + A\n",
    "\n",
    "source = ColumnDataSource(df)\n",
    "\n",
    "plot = figure(plot_width=400, plot_height=400, x_range=[0,6], y_range=[0,6])\n",
    "plot.line(x='X', y='Y pred', source=source, line_width=3, line_alpha=0.6)\n",
    "plot.circle(x='X', y='Y', source=source, size=10, color=\"green\", alpha=0.5)\n",
    "\n",
    "callback_b = CustomJS(args=dict(source=source), code=\"\"\"\n",
    "        var data = source.data;\n",
    "        var b_val = cb_obj.value\n",
    "        var b = data['b']\n",
    "        var A = data['A']\n",
    "        var x = data['X']\n",
    "        var y = data['Y pred']\n",
    "        for (var i = 0; i < x.length; i++) {\n",
    "            b[i] = b_val\n",
    "            y[i] = b[i] * x[i] + A[i]\n",
    "        }\n",
    "        source.change.emit();\n",
    "    \"\"\")\n",
    "\n",
    "callback_A = CustomJS(args=dict(source=source), code=\"\"\"\n",
    "        var data = source.data;\n",
    "        var A_val = cb_obj.value\n",
    "        var b = data['b']\n",
    "        var A = data['A']\n",
    "        var x = data['X']\n",
    "        var y = data['Y pred']\n",
    "        for (var i = 0; i < x.length; i++) {\n",
    "            A[i] = A_val\n",
    "            y[i] = b[i] * x[i] + A[i]\n",
    "        }\n",
    "        source.change.emit();\n",
    "    \"\"\")\n",
    "\n",
    "div = Div(text=\"Root mean squre error: \"+ str(root_mean_sq_error(source.data['X'],source.data['Y'], b, A)))\n",
    "\n",
    "change_text = CustomJS(args=dict(div=div, source=source), code=\"\"\"\n",
    "                var data = source.data;\n",
    "                var y_pred = data['Y pred'];\n",
    "                var y = data['Y'];\n",
    "                var result = 0;\n",
    "                for (var i = 0; i < y.length; i++) {\n",
    "                    var diff = y_pred[i] - y[i]\n",
    "                    result = result + diff * diff\n",
    "                }\n",
    "                result = Math.sqrt(result / y.length)\n",
    "                div.text = \"Root mean squre error: \" + result;\n",
    "             \"\"\"       \n",
    "    )\n",
    "\n",
    "slider_b = Slider(start=0.1, end=4, value=b, step=.1, title=\"value of b\")\n",
    "slider_b.js_on_change('value', callback_b, change_text)\n",
    "slider_A = Slider(start=0.1, end=4, value=A, step=.1, title=\"value of A\")\n",
    "slider_A.js_on_change('value', callback_A, change_text)\n",
    "\n",
    "layout = column(slider_b, slider_A, plot, div)\n",
    "\n",
    "show(layout)"
   ]
  },
  {
   "cell_type": "markdown",
   "metadata": {},
   "source": [
    "### Finding the best line with scikit learn\n",
    "https://scikit-learn.org/stable/modules/generated/sklearn.linear_model.LinearRegression.html#sklearn.linear_model.LinearRegression"
   ]
  },
  {
   "cell_type": "code",
   "execution_count": null,
   "metadata": {},
   "outputs": [],
   "source": [
    "!pip install -U scikit-learn"
   ]
  },
  {
   "cell_type": "code",
   "execution_count": null,
   "metadata": {},
   "outputs": [],
   "source": [
    "from sklearn.linear_model import LinearRegression\n",
    "import numpy as np"
   ]
  },
  {
   "cell_type": "code",
   "execution_count": null,
   "metadata": {},
   "outputs": [],
   "source": [
    "line_reg = LinearRegression()\n",
    "X = np.array(df['X']).reshape(-1, 1)\n",
    "y = np.array(df['Y'])\n",
    "line_reg.fit(X,y)\n",
    "print(\"Score: \", line_reg.score(X, y),\n",
    "      \"\\nCoef: \", line_reg.coef_,\n",
    "      \"\\nIntercept: \", line_reg.intercept_)"
   ]
  },
  {
   "cell_type": "code",
   "execution_count": null,
   "metadata": {},
   "outputs": [],
   "source": [
    "%matplotlib inline\n",
    "import matplotlib.pyplot as plt\n",
    "import numpy as np\n",
    "from sklearn import datasets, linear_model\n",
    "from sklearn.metrics import mean_squared_error, r2_score\n",
    "\n",
    "# Load the diabetes dataset\n",
    "diabetes_X, diabetes_y = datasets.load_diabetes(return_X_y=True)\n",
    "\n",
    "# Use only one feature\n",
    "diabetes_X = diabetes_X[:, np.newaxis, 2]\n",
    "\n",
    "# Split the data into training/testing sets\n",
    "diabetes_X_train = diabetes_X[:-20]\n",
    "diabetes_X_test = diabetes_X[-20:]\n",
    "\n",
    "# Split the targets into training/testing sets\n",
    "diabetes_y_train = diabetes_y[:-20]\n",
    "diabetes_y_test = diabetes_y[-20:]\n",
    "\n",
    "# Create linear regression object\n",
    "regr = linear_model.LinearRegression()\n",
    "\n",
    "# Train the model using the training sets\n",
    "regr.fit(diabetes_X_train, diabetes_y_train)\n",
    "\n",
    "# Make predictions using the testing set\n",
    "diabetes_y_pred = regr.predict(diabetes_X_test)\n",
    "\n",
    "# The coefficients\n",
    "print('Coefficients: \\n', regr.coef_)\n",
    "# The mean squared error\n",
    "print('Mean squared error: %.2f'\n",
    "      % mean_squared_error(diabetes_y_test, diabetes_y_pred))\n",
    "# The coefficient of determination: 1 is perfect prediction\n",
    "print('Coefficient of determination: %.2f'\n",
    "      % r2_score(diabetes_y_test, diabetes_y_pred))\n",
    "\n",
    "# Plot outputs\n",
    "plt.scatter(diabetes_X_test, diabetes_y_test,  color='black')\n",
    "plt.plot(diabetes_X_test, diabetes_y_pred, color='blue', linewidth=3)\n",
    "\n",
    "plt.xticks(())\n",
    "plt.yticks(())\n",
    "\n",
    "plt.show()"
   ]
  },
  {
   "cell_type": "code",
   "execution_count": null,
   "metadata": {},
   "outputs": [],
   "source": []
  }
 ],
 "metadata": {
  "kernelspec": {
   "display_name": "Python 3",
   "language": "python",
   "name": "python3"
  },
  "language_info": {
   "codemirror_mode": {
    "name": "ipython",
    "version": 3
   },
   "file_extension": ".py",
   "mimetype": "text/x-python",
   "name": "python",
   "nbconvert_exporter": "python",
   "pygments_lexer": "ipython3",
   "version": "3.7.3"
  }
 },
 "nbformat": 4,
 "nbformat_minor": 4
}
