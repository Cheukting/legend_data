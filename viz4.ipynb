{
 "cells": [
  {
   "cell_type": "markdown",
   "metadata": {},
   "source": [
    "# Using the Pokemon Data"
   ]
  },
  {
   "cell_type": "code",
   "execution_count": null,
   "metadata": {},
   "outputs": [],
   "source": [
    "import pandas as pd"
   ]
  },
  {
   "cell_type": "code",
   "execution_count": null,
   "metadata": {},
   "outputs": [],
   "source": [
    "pokemon_df = pd.read_csv(\"data/pokemon.csv\", index_col=0, dtype={\"Generation\": 'object'})\n",
    "pokemon_df = pokemon_df.rename(columns={\"Type 1\":\"Type\"})\n",
    "pokemon_df.head()"
   ]
  },
  {
   "cell_type": "code",
   "execution_count": null,
   "metadata": {},
   "outputs": [],
   "source": [
    "pokemon_df.describe()"
   ]
  },
  {
   "cell_type": "markdown",
   "metadata": {},
   "source": [
    "# Do some plots with Bokeh and explore the interativity"
   ]
  },
  {
   "cell_type": "code",
   "execution_count": null,
   "metadata": {},
   "outputs": [],
   "source": [
    "!pip install bokeh"
   ]
  },
  {
   "cell_type": "code",
   "execution_count": null,
   "metadata": {},
   "outputs": [],
   "source": [
    "from bokeh.models import ColumnDataSource\n",
    "\n",
    "groupby_df = pokemon_df.groupby(\"Generation\").mean()\n",
    "source = ColumnDataSource(groupby_df)"
   ]
  },
  {
   "cell_type": "code",
   "execution_count": null,
   "metadata": {},
   "outputs": [],
   "source": [
    "groupby_df = groupby_df.reset_index()"
   ]
  },
  {
   "cell_type": "code",
   "execution_count": null,
   "metadata": {},
   "outputs": [],
   "source": [
    "from bokeh.layouts import column\n",
    "from bokeh.plotting import figure, output_notebook, show\n",
    "from bokeh.palettes import Spectral6\n",
    "from bokeh.transform import factor_cmap\n",
    "from bokeh.models import Slider\n",
    "\n",
    "# output to jupyter notebook\n",
    "output_notebook()\n",
    "\n",
    "# create a new plot with a title and axis labels\n",
    "p = figure(title=\"Average Attack vs Defence in Different Pokemon Generations\", x_axis_label='Attack', y_axis_label='Defense',\n",
    "           plot_width=400, plot_height=400)\n",
    "\n",
    "# color mapper\n",
    "mapper = factor_cmap(field_name='Generation', palette=Spectral6,\n",
    "                     factors=groupby_df['Generation'])\n",
    "\n",
    "# add a line renderer with legend and line thickness\n",
    "dots = p.circle(x='Attack', y='Defense', size=10, source=source, color=mapper, legend_field=\"Generation\")\n",
    "p.legend.orientation = \"horizontal\"\n",
    "p.legend.location = \"top_center\"\n",
    "\n",
    "slider = Slider(start=10, end=30, step=1, value=15)\n",
    "slider.js_link('value', dots.glyph, 'size')\n",
    "\n",
    "# show the results\n",
    "show(column(p, slider))"
   ]
  },
  {
   "cell_type": "code",
   "execution_count": null,
   "metadata": {},
   "outputs": [],
   "source": [
    "group = pokemon_df[[\"Generation\", \"Type\", \"HP\"]].groupby([\"Generation\", \"Type\"])\n",
    "index_cmap = factor_cmap('Generation_Type', palette=Spectral6, factors=sorted(pokemon_df.Generation.unique()), end=1)\n",
    "p = figure(plot_width=800, plot_height=300,\n",
    "           title=\"Pokemon HP across Generations\",\n",
    "           x_range=group, toolbar_location=None,\n",
    "           tooltips=[(\"HP\", \"@HP_mean\")])\n",
    "p.vbar(x='Generation_Type', top='HP_mean', width=1, source=group,\n",
    "       line_color=\"white\", fill_color=index_cmap)\n",
    "\n",
    "p.y_range.start = 0\n",
    "p.x_range.range_padding = 0.05\n",
    "p.xgrid.grid_line_color = None\n",
    "p.xaxis.axis_label = \"Type of pokemon group by Generation\"\n",
    "p.xaxis.major_label_orientation = 1.2\n",
    "p.outline_line_color = None\n",
    "\n",
    "show(p)"
   ]
  },
  {
   "cell_type": "markdown",
   "metadata": {},
   "source": [
    "# Explore Folium\n",
    "\n",
    "Sorry we didn't have time to cover that. You can try out some tutorials here: https://python-visualization.github.io/folium/quickstart.html"
   ]
  },
  {
   "cell_type": "code",
   "execution_count": null,
   "metadata": {},
   "outputs": [],
   "source": [
    "!pip install folium"
   ]
  }
 ],
 "metadata": {
  "kernelspec": {
   "display_name": "Python 3",
   "language": "python",
   "name": "python3"
  },
  "language_info": {
   "codemirror_mode": {
    "name": "ipython",
    "version": 3
   },
   "file_extension": ".py",
   "mimetype": "text/x-python",
   "name": "python",
   "nbconvert_exporter": "python",
   "pygments_lexer": "ipython3",
   "version": "3.7.3"
  }
 },
 "nbformat": 4,
 "nbformat_minor": 4
}
